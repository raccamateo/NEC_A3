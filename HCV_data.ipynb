{
 "cells": [
  {
   "cell_type": "code",
   "execution_count": 12,
   "id": "initial_id",
   "metadata": {
    "collapsed": true,
    "ExecuteTime": {
     "end_time": "2023-12-17T16:25:20.052847Z",
     "start_time": "2023-12-17T16:25:11.781493Z"
    }
   },
   "outputs": [],
   "source": [
    "import requests\n",
    "import pandas as pd\n",
    "from sklearn.impute import SimpleImputer\n",
    "from sklearn.preprocessing import StandardScaler, OneHotEncoder, LabelEncoder\n",
    "from sklearn.compose import ColumnTransformer\n",
    "from sklearn.pipeline import Pipeline  \n",
    "import matplotlib.pyplot as plt\n",
    "import numpy as np\n",
    "from ucimlrepo import fetch_ucirepo"
   ]
  },
  {
   "cell_type": "code",
   "execution_count": 13,
   "outputs": [
    {
     "name": "stdout",
     "output_type": "stream",
     "text": [
      "{'uci_id': 571, 'name': 'HCV data', 'repository_url': 'https://archive.ics.uci.edu/dataset/571/hcv+data', 'data_url': 'https://archive.ics.uci.edu/static/public/571/data.csv', 'abstract': 'The data set contains laboratory values of blood donors and Hepatitis C patients and demographic values like age.', 'area': 'Health and Medicine', 'tasks': ['Classification', 'Clustering'], 'characteristics': ['Multivariate'], 'num_instances': 615, 'num_features': 12, 'feature_types': ['Integer', 'Real'], 'demographics': ['Age', 'Sex'], 'target_col': ['Category'], 'index_col': ['ID'], 'has_missing_values': 'yes', 'missing_values_symbol': 'NaN', 'year_of_dataset_creation': 2020, 'last_updated': 'Fri Nov 03 2023', 'dataset_doi': '10.24432/C5D612', 'creators': ['Ralf Lichtinghagen', 'Frank Klawonn', 'Georg Hoffmann'], 'intro_paper': {'title': 'Using machine learning techniques to generate laboratory diagnostic pathways—a case study', 'authors': 'Georg F. Hoffmann, A. Bietenbeck, R. Lichtinghagen, F. Klawonn', 'published_in': 'Journal of Laboratory and Precision Medicine', 'year': 2018, 'url': 'https://www.semanticscholar.org/paper/26d42f15a80f3629f5de44262891dd25979e4be3', 'doi': '10.21037/jlpm.2018.06.01'}, 'additional_info': {'summary': \"The target attribute for classification is Category (blood donors vs. Hepatitis C, including its progress: 'just' Hepatitis C, Fibrosis, Cirrhosis).\", 'purpose': None, 'funded_by': None, 'instances_represent': 'Instances are patients', 'recommended_data_splits': None, 'sensitive_data': None, 'preprocessing_description': None, 'variable_info': \"All attributes except Category and Sex are numerical. The laboratory data are the attributes 5-14. \\r\\n\\t 1) X (Patient ID/No.)\\r\\n\\t 2) Category (diagnosis) (values: '0=Blood Donor', '0s=suspect Blood Donor', '1=Hepatitis', '2=Fibrosis', '3=Cirrhosis')\\r\\n\\t 3) Age (in years)\\r\\n\\t 4) Sex (f,m)\\r\\n\\t 5) ALB\\r\\n\\t 6) ALP\\r\\n\\t 7) ALT\\r\\n\\t 8) AST\\r\\n\\t 9) BIL\\r\\n\\t10) CHE\\r\\n\\t11) CHOL\\r\\n\\t12) CREA\\r\\n\\t13) GGT\\r\\n\\t14) PROT\\r\\n\", 'citation': None}}\n"
     ]
    }
   ],
   "source": [
    "# fetch dataset \n",
    "hcv_data = fetch_ucirepo(id=571)\n",
    "\n",
    "# data (as pandas dataframes) \n",
    "X = hcv_data.data.features \n",
    "y = hcv_data.data.targets\n",
    "\n",
    "# metadata \n",
    "print(hcv_data.metadata)"
   ],
   "metadata": {
    "collapsed": false,
    "ExecuteTime": {
     "end_time": "2023-12-17T16:25:23.474122Z",
     "start_time": "2023-12-17T16:25:21.774302Z"
    }
   },
   "id": "b08c26130166b680"
  },
  {
   "cell_type": "code",
   "execution_count": 14,
   "outputs": [
    {
     "name": "stdout",
     "output_type": "stream",
     "text": [
      "        name     role         type demographic  \\\n",
      "0         ID       ID      Integer        None   \n",
      "1        Age  Feature      Integer         Age   \n",
      "2        Sex  Feature       Binary         Sex   \n",
      "3        ALB  Feature   Continuous        None   \n",
      "4        ALP  Feature   Continuous        None   \n",
      "5        AST  Feature   Continuous        None   \n",
      "6        BIL  Feature   Continuous        None   \n",
      "7        CHE  Feature   Continuous        None   \n",
      "8       CHOL  Feature   Continuous        None   \n",
      "9       CREA  Feature   Continuous        None   \n",
      "10       CGT  Feature   Continuous        None   \n",
      "11      PROT  Feature   Continuous        None   \n",
      "12  Category   Target  Categorical        None   \n",
      "13       ALT  Feature   Continuous        None   \n",
      "\n",
      "                                          description  units missing_values  \n",
      "0                                          Patient ID   None             no  \n",
      "1                                                None  years             no  \n",
      "2                                                None   None             no  \n",
      "3                                                None   None            yes  \n",
      "4                                                None   None            yes  \n",
      "5                                                None   None            yes  \n",
      "6                                                None   None             no  \n",
      "7                                                None   None             no  \n",
      "8                                                None   None            yes  \n",
      "9                                                None   None             no  \n",
      "10                                               None   None             no  \n",
      "11                                               None   None            yes  \n",
      "12  values: '0=Blood Donor', '0s=suspect Blood Don...   None             no  \n",
      "13                                               None   None             no  \n"
     ]
    }
   ],
   "source": [
    "# variable information \n",
    "print(hcv_data.variables)"
   ],
   "metadata": {
    "collapsed": false,
    "ExecuteTime": {
     "end_time": "2023-12-17T16:25:25.868704Z",
     "start_time": "2023-12-17T16:25:25.865864Z"
    }
   },
   "id": "f7a9a3c5f38f78c0"
  },
  {
   "cell_type": "code",
   "execution_count": 15,
   "outputs": [],
   "source": [
    "# Identify categorical and numerical columns\n",
    "categorical_cols = ['Sex']  # Replace with your actual categorical columns\n",
    "numerical_cols = X.columns.difference(categorical_cols + ['ID'])  # Exclude 'ID' and categorical columns"
   ],
   "metadata": {
    "collapsed": false,
    "ExecuteTime": {
     "end_time": "2023-12-17T16:25:28.295047Z",
     "start_time": "2023-12-17T16:25:28.292379Z"
    }
   },
   "id": "898044f57c3edb98"
  },
  {
   "cell_type": "code",
   "execution_count": 16,
   "outputs": [],
   "source": [
    " # Define the preprocessing pipelines for both numerical and categorical data\n",
    "numerical_pipeline = Pipeline([\n",
    "    ('imputer', SimpleImputer(strategy='mean')),  # Replace missing values with the mean\n",
    "    ('scaler', StandardScaler())  # Standardize numerical features\n",
    "])\n",
    "\n",
    "categorical_pipeline = Pipeline([\n",
    "    ('imputer', SimpleImputer(strategy='most_frequent')),  # Replace missing values with the most frequent\n",
    "    ('encoder', OneHotEncoder(drop='if_binary'))  # Encode binary categorical features\n",
    "])"
   ],
   "metadata": {
    "collapsed": false,
    "ExecuteTime": {
     "end_time": "2023-12-17T16:25:30.166602Z",
     "start_time": "2023-12-17T16:25:30.162114Z"
    }
   },
   "id": "66de0199f500069c"
  },
  {
   "cell_type": "code",
   "execution_count": 17,
   "outputs": [],
   "source": [
    "# Combine preprocessing pipelines\n",
    "preprocessor = ColumnTransformer([\n",
    "    ('num', numerical_pipeline, numerical_cols),\n",
    "    ('cat', categorical_pipeline, categorical_cols)\n",
    "])"
   ],
   "metadata": {
    "collapsed": false,
    "ExecuteTime": {
     "end_time": "2023-12-17T16:25:31.334424Z",
     "start_time": "2023-12-17T16:25:31.330689Z"
    }
   },
   "id": "c6955d64d7753845"
  },
  {
   "cell_type": "code",
   "execution_count": 18,
   "outputs": [],
   "source": [
    "# Preprocess the features\n",
    "X_preprocessed = preprocessor.fit_transform(X)"
   ],
   "metadata": {
    "collapsed": false,
    "ExecuteTime": {
     "end_time": "2023-12-17T16:25:32.729817Z",
     "start_time": "2023-12-17T16:25:32.719190Z"
    }
   },
   "id": "6b1fa5655e80df9f"
  },
  {
   "cell_type": "code",
   "execution_count": 19,
   "outputs": [],
   "source": [
    "# Convert preprocessed data back to a DataFrame for easy manipulation and saving\n",
    "X_preprocessed_df = pd.DataFrame(X_preprocessed, index=X.index,\n",
    "                                 columns=(numerical_cols.tolist() + preprocessor.named_transformers_['cat'].named_steps['encoder'].get_feature_names_out(categorical_cols).tolist()))"
   ],
   "metadata": {
    "collapsed": false,
    "ExecuteTime": {
     "end_time": "2023-12-17T16:25:33.513756Z",
     "start_time": "2023-12-17T16:25:33.509060Z"
    }
   },
   "id": "8e797b3265690173"
  },
  {
   "cell_type": "code",
   "execution_count": 20,
   "outputs": [],
   "source": [
    "# Save the preprocessed data to a new CSV file\n",
    "X_preprocessed_df.to_csv('preprocessed_hcv_data.csv', index=False)"
   ],
   "metadata": {
    "collapsed": false,
    "ExecuteTime": {
     "end_time": "2023-12-17T16:25:37.091727Z",
     "start_time": "2023-12-17T16:25:37.073912Z"
    }
   },
   "id": "ce830fb967228ac5"
  },
  {
   "cell_type": "code",
   "execution_count": null,
   "outputs": [],
   "source": [],
   "metadata": {
    "collapsed": false
   },
   "id": "72b48c5c430018f0"
  }
 ],
 "metadata": {
  "kernelspec": {
   "display_name": "Python 3",
   "language": "python",
   "name": "python3"
  },
  "language_info": {
   "codemirror_mode": {
    "name": "ipython",
    "version": 2
   },
   "file_extension": ".py",
   "mimetype": "text/x-python",
   "name": "python",
   "nbconvert_exporter": "python",
   "pygments_lexer": "ipython2",
   "version": "2.7.6"
  }
 },
 "nbformat": 4,
 "nbformat_minor": 5
}
